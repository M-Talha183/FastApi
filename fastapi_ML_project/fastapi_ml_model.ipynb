{
 "cells": [
  {
   "cell_type": "code",
   "execution_count": null,
   "id": "d0b4c6c7",
   "metadata": {
    "vscode": {
     "languageId": "plaintext"
    }
   },
   "outputs": [],
   "source": [
    "import pandas as pd\n",
    "from sklearn.ensemble import RandomForestClassifier\n",
    "from sklearn.model_selection import train_test_split\n",
    "from sklearn.preprocessing import OneHotEncoder\n",
    "from sklearn.pipeline import Pipeline\n",
    "from sklearn.compose import ColumnTransformer\n",
    "from sklearn.metrics import classification_report, accuracy_score\n",
    "import numpy as np"
   ]
  },
  {
   "cell_type": "code",
   "execution_count": null,
   "id": "ac8dc18a",
   "metadata": {
    "vscode": {
     "languageId": "plaintext"
    }
   },
   "outputs": [],
   "source": [
    "df = pd.read_csv('insurance.csv')\n"
   ]
  },
  {
   "cell_type": "code",
   "execution_count": null,
   "id": "24dad4e0",
   "metadata": {
    "vscode": {
     "languageId": "plaintext"
    }
   },
   "outputs": [],
   "source": [
    "df.sample(5)\n",
    "     "
   ]
  },
  {
   "cell_type": "code",
   "execution_count": null,
   "id": "6680f0c3",
   "metadata": {
    "vscode": {
     "languageId": "plaintext"
    }
   },
   "outputs": [],
   "source": [
    "df['occupation'].unique()"
   ]
  },
  {
   "cell_type": "code",
   "execution_count": null,
   "id": "c7559c48",
   "metadata": {
    "vscode": {
     "languageId": "plaintext"
    }
   },
   "outputs": [],
   "source": [
    "df_feat = df.copy()"
   ]
  },
  {
   "cell_type": "code",
   "execution_count": null,
   "id": "c2b3b7b5",
   "metadata": {
    "vscode": {
     "languageId": "plaintext"
    }
   },
   "outputs": [],
   "source": [
    "# Feature 1: BMI\n",
    "df_feat[\"bmi\"] = df_feat[\"weight\"] / (df_feat[\"height\"] ** 2)\n",
    "     "
   ]
  },
  {
   "cell_type": "code",
   "execution_count": null,
   "id": "31b324c1",
   "metadata": {
    "vscode": {
     "languageId": "plaintext"
    }
   },
   "outputs": [],
   "source": [
    "# Feature 2: Age Group\n",
    "def age_group(age):\n",
    "    if age < 25:\n",
    "        return \"young\"\n",
    "    elif age < 45:\n",
    "        return \"adult\"\n",
    "    elif age < 60:\n",
    "        return \"middle_aged\"\n",
    "    return \"senior\"\n",
    "     "
   ]
  },
  {
   "cell_type": "code",
   "execution_count": null,
   "id": "48801b84",
   "metadata": {
    "vscode": {
     "languageId": "plaintext"
    }
   },
   "outputs": [],
   "source": [
    "df_feat[\"age_group\"] = df_feat[\"age\"].apply(age_group)\n",
    "     "
   ]
  },
  {
   "cell_type": "code",
   "execution_count": null,
   "id": "664ca3e6",
   "metadata": {
    "vscode": {
     "languageId": "plaintext"
    }
   },
   "outputs": [],
   "source": [
    "# Feature 3: Lifestyle Risk\n",
    "def lifestyle_risk(row):\n",
    "    if row[\"smoker\"] and row[\"bmi\"] > 30:\n",
    "        return \"high\"\n",
    "    elif row[\"smoker\"] or row[\"bmi\"] > 27:\n",
    "        return \"medium\"\n",
    "    else:\n",
    "        return \"low\"\n",
    "     "
   ]
  },
  {
   "cell_type": "code",
   "execution_count": null,
   "id": "60d66bad",
   "metadata": {
    "vscode": {
     "languageId": "plaintext"
    }
   },
   "outputs": [],
   "source": [
    "df_feat[\"lifestyle_risk\"] = df_feat.apply(lifestyle_risk, axis=1)\n"
   ]
  },
  {
   "cell_type": "code",
   "execution_count": null,
   "id": "0eed5068",
   "metadata": {
    "vscode": {
     "languageId": "plaintext"
    }
   },
   "outputs": [],
   "source": [
    "tier_1_cities = [\"Mumbai\", \"Delhi\", \"Bangalore\", \"Chennai\", \"Kolkata\", \"Hyderabad\", \"Pune\"]\n",
    "tier_2_cities = [\n",
    "    \"Jaipur\", \"Chandigarh\", \"Indore\", \"Lucknow\", \"Patna\", \"Ranchi\", \"Visakhapatnam\", \"Coimbatore\",\n",
    "    \"Bhopal\", \"Nagpur\", \"Vadodara\", \"Surat\", \"Rajkot\", \"Jodhpur\", \"Raipur\", \"Amritsar\", \"Varanasi\",\n",
    "    \"Agra\", \"Dehradun\", \"Mysore\", \"Jabalpur\", \"Guwahati\", \"Thiruvananthapuram\", \"Ludhiana\", \"Nashik\",\n",
    "    \"Allahabad\", \"Udaipur\", \"Aurangabad\", \"Hubli\", \"Belgaum\", \"Salem\", \"Vijayawada\", \"Tiruchirappalli\",\n",
    "    \"Bhavnagar\", \"Gwalior\", \"Dhanbad\", \"Bareilly\", \"Aligarh\", \"Gaya\", \"Kozhikode\", \"Warangal\",\n",
    "    \"Kolhapur\", \"Bilaspur\", \"Jalandhar\", \"Noida\", \"Guntur\", \"Asansol\", \"Siliguri\"\n",
    "]"
   ]
  },
  {
   "cell_type": "code",
   "execution_count": null,
   "id": "41829bd4",
   "metadata": {
    "vscode": {
     "languageId": "plaintext"
    }
   },
   "outputs": [],
   "source": [
    "# Feature 4: City Tier\n",
    "def city_tier(city):\n",
    "    if city in tier_1_cities:\n",
    "        return 1\n",
    "    elif city in tier_2_cities:\n",
    "        return 2\n",
    "    else:\n",
    "        return 3"
   ]
  },
  {
   "cell_type": "code",
   "execution_count": null,
   "id": "f98cc565",
   "metadata": {
    "vscode": {
     "languageId": "plaintext"
    }
   },
   "outputs": [],
   "source": [
    "df_feat[\"city_tier\"] = df_feat[\"city\"].apply(city_tier)\n"
   ]
  },
  {
   "cell_type": "code",
   "execution_count": null,
   "id": "583dfddd",
   "metadata": {
    "vscode": {
     "languageId": "plaintext"
    }
   },
   "outputs": [],
   "source": [
    "df_feat.drop(columns=['age', 'weight', 'height', 'smoker', 'city'])[['income_lpa', 'occupation', 'bmi', 'age_group', 'lifestyle_risk', 'city_tier', 'insurance_premium_category']].sample(5)\n"
   ]
  },
  {
   "cell_type": "code",
   "execution_count": null,
   "id": "abbe7c05",
   "metadata": {
    "vscode": {
     "languageId": "plaintext"
    }
   },
   "outputs": [],
   "source": [
    "# Select features and target\n",
    "X = df_feat[[\"bmi\", \"age_group\", \"lifestyle_risk\", \"city_tier\", \"income_lpa\", \"occupation\"]]\n",
    "y = df_feat[\"insurance_premium_category\"]\n",
    "     "
   ]
  },
  {
   "cell_type": "code",
   "execution_count": null,
   "id": "18d0f230",
   "metadata": {
    "vscode": {
     "languageId": "plaintext"
    }
   },
   "outputs": [],
   "source": [
    "# Define categorical and numeric features\n",
    "categorical_features = [\"age_group\", \"lifestyle_risk\", \"occupation\", \"city_tier\"]\n",
    "numeric_features = [\"bmi\", \"income_lpa\"]"
   ]
  },
  {
   "cell_type": "code",
   "execution_count": null,
   "id": "69d660e2",
   "metadata": {
    "vscode": {
     "languageId": "plaintext"
    }
   },
   "outputs": [],
   "source": [
    "# Create column transformer for OHE\n",
    "preprocessor = ColumnTransformer(\n",
    "    transformers=[\n",
    "        (\"cat\", OneHotEncoder(), categorical_features),\n",
    "        (\"num\", \"passthrough\", numeric_features)\n",
    "    ]\n",
    ")\n",
    "     \n"
   ]
  },
  {
   "cell_type": "code",
   "execution_count": null,
   "id": "42d4a10f",
   "metadata": {
    "vscode": {
     "languageId": "plaintext"
    }
   },
   "outputs": [],
   "source": [
    "# Create a pipeline with preprocessing and random forest classifier\n",
    "pipeline = Pipeline(steps=[\n",
    "    (\"preprocessor\", preprocessor),\n",
    "    (\"classifier\", RandomForestClassifier(random_state=42))\n",
    "])\n",
    "     "
   ]
  },
  {
   "cell_type": "code",
   "execution_count": null,
   "id": "4aa2c791",
   "metadata": {
    "vscode": {
     "languageId": "plaintext"
    }
   },
   "outputs": [],
   "source": [
    "# Split data and train model\n",
    "X_train, X_test, y_train, y_test = train_test_split(X, y, test_size=0.2, random_state=1)\n",
    "pipeline.fit(X_train, y_train)\n"
   ]
  },
  {
   "cell_type": "code",
   "execution_count": null,
   "id": "dc71091f",
   "metadata": {
    "vscode": {
     "languageId": "plaintext"
    }
   },
   "outputs": [],
   "source": [
    "# Predict and evaluate\n",
    "y_pred = pipeline.predict(X_test)\n",
    "accuracy_score(y_test, y_pred)"
   ]
  },
  {
   "cell_type": "code",
   "execution_count": null,
   "id": "824fc466",
   "metadata": {
    "vscode": {
     "languageId": "plaintext"
    }
   },
   "outputs": [],
   "source": [
    "X_test.sample(5)\n"
   ]
  },
  {
   "cell_type": "code",
   "execution_count": null,
   "id": "0c1a2311",
   "metadata": {
    "vscode": {
     "languageId": "plaintext"
    }
   },
   "outputs": [],
   "source": [
    "import pickle\n",
    "\n",
    "# Save the trained pipeline using pickle\n",
    "pickle_model_path = \"model.pkl\"\n",
    "with open(pickle_model_path, \"wb\") as f:\n",
    "    pickle.dump(pipeline, f)\n"
   ]
  }
 ],
 "metadata": {
  "language_info": {
   "name": "python"
  }
 },
 "nbformat": 4,
 "nbformat_minor": 5
}
